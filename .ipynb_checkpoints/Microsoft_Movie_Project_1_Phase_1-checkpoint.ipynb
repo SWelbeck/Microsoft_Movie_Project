{
 "cells": [
  {
   "cell_type": "code",
   "execution_count": 49,
   "metadata": {},
   "outputs": [],
   "source": [
    "#cd CSV\\ files"
   ]
  },
  {
   "cell_type": "code",
   "execution_count": 116,
   "metadata": {},
   "outputs": [],
   "source": [
    "import pandas as pd\n",
    "%matplotlib inline\n",
    "import random\n",
    "import matplotlib.pyplot as plt\n",
    "import seaborn as sn\n",
    "import numpy as np\n",
    "import json\n",
    "from datetime import datetime"
   ]
  },
  {
   "cell_type": "markdown",
   "metadata": {},
   "source": [
    "# Data Cleaning"
   ]
  },
  {
   "cell_type": "code",
   "execution_count": 51,
   "metadata": {},
   "outputs": [],
   "source": [
    "df = pd.read_csv(\"combined_movie_data.csv\")"
   ]
  },
  {
   "cell_type": "code",
   "execution_count": 52,
   "metadata": {},
   "outputs": [
    {
     "data": {
      "text/html": [
       "<div>\n",
       "<style scoped>\n",
       "    .dataframe tbody tr th:only-of-type {\n",
       "        vertical-align: middle;\n",
       "    }\n",
       "\n",
       "    .dataframe tbody tr th {\n",
       "        vertical-align: top;\n",
       "    }\n",
       "\n",
       "    .dataframe thead th {\n",
       "        text-align: right;\n",
       "    }\n",
       "</style>\n",
       "<table border=\"1\" class=\"dataframe\">\n",
       "  <thead>\n",
       "    <tr style=\"text-align: right;\">\n",
       "      <th></th>\n",
       "      <th>Unnamed: 0</th>\n",
       "      <th>titleId</th>\n",
       "      <th>start_year</th>\n",
       "      <th>genres</th>\n",
       "      <th>ordering</th>\n",
       "      <th>title</th>\n",
       "      <th>region</th>\n",
       "      <th>genre_ids</th>\n",
       "      <th>id_x</th>\n",
       "      <th>popularity</th>\n",
       "      <th>release_date_x</th>\n",
       "      <th>vote_average</th>\n",
       "      <th>vote_count</th>\n",
       "      <th>id_y</th>\n",
       "      <th>release_date_y</th>\n",
       "      <th>production_budget</th>\n",
       "      <th>domestic_gross</th>\n",
       "      <th>worldwide_gross</th>\n",
       "      <th>movie_year</th>\n",
       "    </tr>\n",
       "  </thead>\n",
       "  <tbody>\n",
       "    <tr>\n",
       "      <th>0</th>\n",
       "      <td>0</td>\n",
       "      <td>tt0069049</td>\n",
       "      <td>2018.0</td>\n",
       "      <td>Drama</td>\n",
       "      <td>3.0</td>\n",
       "      <td>The Other Side of the Wind</td>\n",
       "      <td>US</td>\n",
       "      <td>[35, 18]</td>\n",
       "      <td>299782</td>\n",
       "      <td>9.800</td>\n",
       "      <td>2018-11-02</td>\n",
       "      <td>7.0</td>\n",
       "      <td>64</td>\n",
       "      <td>NaN</td>\n",
       "      <td>NaN</td>\n",
       "      <td>NaN</td>\n",
       "      <td>NaN</td>\n",
       "      <td>NaN</td>\n",
       "      <td>2018</td>\n",
       "    </tr>\n",
       "    <tr>\n",
       "      <th>1</th>\n",
       "      <td>1</td>\n",
       "      <td>tt0112502</td>\n",
       "      <td>2017.0</td>\n",
       "      <td>Horror,Thriller</td>\n",
       "      <td>3.0</td>\n",
       "      <td>Bigfoot</td>\n",
       "      <td>US</td>\n",
       "      <td>[27, 878, 12]</td>\n",
       "      <td>117856</td>\n",
       "      <td>2.813</td>\n",
       "      <td>2012-06-30</td>\n",
       "      <td>2.9</td>\n",
       "      <td>26</td>\n",
       "      <td>NaN</td>\n",
       "      <td>NaN</td>\n",
       "      <td>NaN</td>\n",
       "      <td>NaN</td>\n",
       "      <td>NaN</td>\n",
       "      <td>2012</td>\n",
       "    </tr>\n",
       "    <tr>\n",
       "      <th>2</th>\n",
       "      <td>2</td>\n",
       "      <td>tt4503112</td>\n",
       "      <td>2018.0</td>\n",
       "      <td>Action,Horror</td>\n",
       "      <td>3.0</td>\n",
       "      <td>Bigfoot</td>\n",
       "      <td>US</td>\n",
       "      <td>[27, 878, 12]</td>\n",
       "      <td>117856</td>\n",
       "      <td>2.813</td>\n",
       "      <td>2012-06-30</td>\n",
       "      <td>2.9</td>\n",
       "      <td>26</td>\n",
       "      <td>NaN</td>\n",
       "      <td>NaN</td>\n",
       "      <td>NaN</td>\n",
       "      <td>NaN</td>\n",
       "      <td>NaN</td>\n",
       "      <td>2012</td>\n",
       "    </tr>\n",
       "    <tr>\n",
       "      <th>3</th>\n",
       "      <td>3</td>\n",
       "      <td>tt9181914</td>\n",
       "      <td>2018.0</td>\n",
       "      <td>Animation,Family</td>\n",
       "      <td>5.0</td>\n",
       "      <td>Bigfoot</td>\n",
       "      <td>US</td>\n",
       "      <td>[27, 878, 12]</td>\n",
       "      <td>117856</td>\n",
       "      <td>2.813</td>\n",
       "      <td>2012-06-30</td>\n",
       "      <td>2.9</td>\n",
       "      <td>26</td>\n",
       "      <td>NaN</td>\n",
       "      <td>NaN</td>\n",
       "      <td>NaN</td>\n",
       "      <td>NaN</td>\n",
       "      <td>NaN</td>\n",
       "      <td>2012</td>\n",
       "    </tr>\n",
       "    <tr>\n",
       "      <th>4</th>\n",
       "      <td>4</td>\n",
       "      <td>tt0192528</td>\n",
       "      <td>2018.0</td>\n",
       "      <td>Drama</td>\n",
       "      <td>1.0</td>\n",
       "      <td>Heaven &amp; Hell</td>\n",
       "      <td>US</td>\n",
       "      <td>[18]</td>\n",
       "      <td>567662</td>\n",
       "      <td>0.600</td>\n",
       "      <td>2018-11-06</td>\n",
       "      <td>7.5</td>\n",
       "      <td>2</td>\n",
       "      <td>NaN</td>\n",
       "      <td>NaN</td>\n",
       "      <td>NaN</td>\n",
       "      <td>NaN</td>\n",
       "      <td>NaN</td>\n",
       "      <td>2018</td>\n",
       "    </tr>\n",
       "  </tbody>\n",
       "</table>\n",
       "</div>"
      ],
      "text/plain": [
       "   Unnamed: 0    titleId  start_year            genres  ordering  \\\n",
       "0           0  tt0069049      2018.0             Drama       3.0   \n",
       "1           1  tt0112502      2017.0   Horror,Thriller       3.0   \n",
       "2           2  tt4503112      2018.0     Action,Horror       3.0   \n",
       "3           3  tt9181914      2018.0  Animation,Family       5.0   \n",
       "4           4  tt0192528      2018.0             Drama       1.0   \n",
       "\n",
       "                        title region      genre_ids    id_x  popularity  \\\n",
       "0  The Other Side of the Wind     US       [35, 18]  299782       9.800   \n",
       "1                     Bigfoot     US  [27, 878, 12]  117856       2.813   \n",
       "2                     Bigfoot     US  [27, 878, 12]  117856       2.813   \n",
       "3                     Bigfoot     US  [27, 878, 12]  117856       2.813   \n",
       "4               Heaven & Hell     US           [18]  567662       0.600   \n",
       "\n",
       "  release_date_x  vote_average  vote_count  id_y release_date_y  \\\n",
       "0     2018-11-02           7.0          64   NaN            NaN   \n",
       "1     2012-06-30           2.9          26   NaN            NaN   \n",
       "2     2012-06-30           2.9          26   NaN            NaN   \n",
       "3     2012-06-30           2.9          26   NaN            NaN   \n",
       "4     2018-11-06           7.5           2   NaN            NaN   \n",
       "\n",
       "  production_budget domestic_gross worldwide_gross movie_year  \n",
       "0               NaN            NaN             NaN       2018  \n",
       "1               NaN            NaN             NaN       2012  \n",
       "2               NaN            NaN             NaN       2012  \n",
       "3               NaN            NaN             NaN       2012  \n",
       "4               NaN            NaN             NaN       2018  "
      ]
     },
     "execution_count": 52,
     "metadata": {},
     "output_type": "execute_result"
    }
   ],
   "source": [
    "df['movie_year'] = df.release_date_x.str[:4]\n",
    "df.head()"
   ]
  },
  {
   "cell_type": "code",
   "execution_count": 53,
   "metadata": {},
   "outputs": [],
   "source": [
    "df.drop(df.loc[df['domestic_gross']=='$0'].index, inplace=True)"
   ]
  },
  {
   "cell_type": "code",
   "execution_count": 54,
   "metadata": {},
   "outputs": [],
   "source": [
    "df1 = df.drop(['Unnamed: 0', 'start_year','titleId','worldwide_gross','genre_ids', 'id_x', 'worldwide_gross','id_y','ordering'], axis=1, inplace=False)"
   ]
  },
  {
   "cell_type": "code",
   "execution_count": 55,
   "metadata": {},
   "outputs": [
    {
     "data": {
      "text/html": [
       "<div>\n",
       "<style scoped>\n",
       "    .dataframe tbody tr th:only-of-type {\n",
       "        vertical-align: middle;\n",
       "    }\n",
       "\n",
       "    .dataframe tbody tr th {\n",
       "        vertical-align: top;\n",
       "    }\n",
       "\n",
       "    .dataframe thead th {\n",
       "        text-align: right;\n",
       "    }\n",
       "</style>\n",
       "<table border=\"1\" class=\"dataframe\">\n",
       "  <thead>\n",
       "    <tr style=\"text-align: right;\">\n",
       "      <th></th>\n",
       "      <th>genres</th>\n",
       "      <th>title</th>\n",
       "      <th>region</th>\n",
       "      <th>popularity</th>\n",
       "      <th>release_date_x</th>\n",
       "      <th>vote_average</th>\n",
       "      <th>vote_count</th>\n",
       "      <th>release_date_y</th>\n",
       "      <th>production_budget</th>\n",
       "      <th>domestic_gross</th>\n",
       "      <th>movie_year</th>\n",
       "    </tr>\n",
       "  </thead>\n",
       "  <tbody>\n",
       "    <tr>\n",
       "      <th>22</th>\n",
       "      <td>no genre</td>\n",
       "      <td>The Overnight</td>\n",
       "      <td>US</td>\n",
       "      <td>6.576</td>\n",
       "      <td>2015-06-19</td>\n",
       "      <td>6.0</td>\n",
       "      <td>200</td>\n",
       "      <td>Jun 19, 2015</td>\n",
       "      <td>$200,000</td>\n",
       "      <td>$1,109,808</td>\n",
       "      <td>2015</td>\n",
       "    </tr>\n",
       "    <tr>\n",
       "      <th>23</th>\n",
       "      <td>Comedy,Mystery</td>\n",
       "      <td>The Overnight</td>\n",
       "      <td>US</td>\n",
       "      <td>6.576</td>\n",
       "      <td>2015-06-19</td>\n",
       "      <td>6.0</td>\n",
       "      <td>200</td>\n",
       "      <td>Jun 19, 2015</td>\n",
       "      <td>$200,000</td>\n",
       "      <td>$1,109,808</td>\n",
       "      <td>2015</td>\n",
       "    </tr>\n",
       "    <tr>\n",
       "      <th>26</th>\n",
       "      <td>Adventure,Drama,Romance</td>\n",
       "      <td>On the Road</td>\n",
       "      <td>US</td>\n",
       "      <td>8.919</td>\n",
       "      <td>2012-12-21</td>\n",
       "      <td>5.6</td>\n",
       "      <td>518</td>\n",
       "      <td>Mar 22, 2013</td>\n",
       "      <td>$25,000,000</td>\n",
       "      <td>$720,828</td>\n",
       "      <td>2012</td>\n",
       "    </tr>\n",
       "    <tr>\n",
       "      <th>27</th>\n",
       "      <td>Horror</td>\n",
       "      <td>Whiplash</td>\n",
       "      <td>US</td>\n",
       "      <td>6.298</td>\n",
       "      <td>2013-01-18</td>\n",
       "      <td>7.9</td>\n",
       "      <td>94</td>\n",
       "      <td>Oct 10, 2014</td>\n",
       "      <td>$3,300,000</td>\n",
       "      <td>$13,092,006</td>\n",
       "      <td>2013</td>\n",
       "    </tr>\n",
       "    <tr>\n",
       "      <th>28</th>\n",
       "      <td>Drama,Music</td>\n",
       "      <td>Whiplash</td>\n",
       "      <td>US</td>\n",
       "      <td>6.298</td>\n",
       "      <td>2013-01-18</td>\n",
       "      <td>7.9</td>\n",
       "      <td>94</td>\n",
       "      <td>Oct 10, 2014</td>\n",
       "      <td>$3,300,000</td>\n",
       "      <td>$13,092,006</td>\n",
       "      <td>2013</td>\n",
       "    </tr>\n",
       "    <tr>\n",
       "      <th>...</th>\n",
       "      <td>...</td>\n",
       "      <td>...</td>\n",
       "      <td>...</td>\n",
       "      <td>...</td>\n",
       "      <td>...</td>\n",
       "      <td>...</td>\n",
       "      <td>...</td>\n",
       "      <td>...</td>\n",
       "      <td>...</td>\n",
       "      <td>...</td>\n",
       "      <td>...</td>\n",
       "    </tr>\n",
       "    <tr>\n",
       "      <th>26098</th>\n",
       "      <td>no genre</td>\n",
       "      <td>Man on Fire</td>\n",
       "      <td>NaN</td>\n",
       "      <td>1.790</td>\n",
       "      <td>2018-01-24</td>\n",
       "      <td>8.0</td>\n",
       "      <td>1</td>\n",
       "      <td>Apr 23, 2004</td>\n",
       "      <td>$60,000,000</td>\n",
       "      <td>$77,906,816</td>\n",
       "      <td>2018</td>\n",
       "    </tr>\n",
       "    <tr>\n",
       "      <th>26200</th>\n",
       "      <td>no genre</td>\n",
       "      <td>Spawn</td>\n",
       "      <td>NaN</td>\n",
       "      <td>1.400</td>\n",
       "      <td>2018-04-13</td>\n",
       "      <td>10.0</td>\n",
       "      <td>1</td>\n",
       "      <td>Jul 31, 1997</td>\n",
       "      <td>$40,000,000</td>\n",
       "      <td>$54,979,992</td>\n",
       "      <td>2018</td>\n",
       "    </tr>\n",
       "    <tr>\n",
       "      <th>26317</th>\n",
       "      <td>no genre</td>\n",
       "      <td>Enough</td>\n",
       "      <td>NaN</td>\n",
       "      <td>0.719</td>\n",
       "      <td>2018-03-22</td>\n",
       "      <td>8.7</td>\n",
       "      <td>3</td>\n",
       "      <td>May 24, 2002</td>\n",
       "      <td>$38,000,000</td>\n",
       "      <td>$39,177,215</td>\n",
       "      <td>2018</td>\n",
       "    </tr>\n",
       "    <tr>\n",
       "      <th>26457</th>\n",
       "      <td>no genre</td>\n",
       "      <td>Undiscovered</td>\n",
       "      <td>NaN</td>\n",
       "      <td>0.600</td>\n",
       "      <td>2018-04-07</td>\n",
       "      <td>8.0</td>\n",
       "      <td>1</td>\n",
       "      <td>Aug 26, 2005</td>\n",
       "      <td>$9,000,000</td>\n",
       "      <td>$1,069,318</td>\n",
       "      <td>2018</td>\n",
       "    </tr>\n",
       "    <tr>\n",
       "      <th>26546</th>\n",
       "      <td>no genre</td>\n",
       "      <td>Jaws</td>\n",
       "      <td>NaN</td>\n",
       "      <td>0.600</td>\n",
       "      <td>2018-05-29</td>\n",
       "      <td>0.0</td>\n",
       "      <td>1</td>\n",
       "      <td>Jun 20, 1975</td>\n",
       "      <td>$12,000,000</td>\n",
       "      <td>$260,000,000</td>\n",
       "      <td>2018</td>\n",
       "    </tr>\n",
       "  </tbody>\n",
       "</table>\n",
       "<p>2793 rows × 11 columns</p>\n",
       "</div>"
      ],
      "text/plain": [
       "                        genres          title region  popularity  \\\n",
       "22                    no genre  The Overnight     US       6.576   \n",
       "23              Comedy,Mystery  The Overnight     US       6.576   \n",
       "26     Adventure,Drama,Romance    On the Road     US       8.919   \n",
       "27                      Horror       Whiplash     US       6.298   \n",
       "28                 Drama,Music       Whiplash     US       6.298   \n",
       "...                        ...            ...    ...         ...   \n",
       "26098                 no genre    Man on Fire    NaN       1.790   \n",
       "26200                 no genre          Spawn    NaN       1.400   \n",
       "26317                 no genre         Enough    NaN       0.719   \n",
       "26457                 no genre   Undiscovered    NaN       0.600   \n",
       "26546                 no genre           Jaws    NaN       0.600   \n",
       "\n",
       "      release_date_x  vote_average  vote_count release_date_y  \\\n",
       "22        2015-06-19           6.0         200   Jun 19, 2015   \n",
       "23        2015-06-19           6.0         200   Jun 19, 2015   \n",
       "26        2012-12-21           5.6         518   Mar 22, 2013   \n",
       "27        2013-01-18           7.9          94   Oct 10, 2014   \n",
       "28        2013-01-18           7.9          94   Oct 10, 2014   \n",
       "...              ...           ...         ...            ...   \n",
       "26098     2018-01-24           8.0           1   Apr 23, 2004   \n",
       "26200     2018-04-13          10.0           1   Jul 31, 1997   \n",
       "26317     2018-03-22           8.7           3   May 24, 2002   \n",
       "26457     2018-04-07           8.0           1   Aug 26, 2005   \n",
       "26546     2018-05-29           0.0           1   Jun 20, 1975   \n",
       "\n",
       "      production_budget domestic_gross movie_year  \n",
       "22             $200,000     $1,109,808       2015  \n",
       "23             $200,000     $1,109,808       2015  \n",
       "26          $25,000,000       $720,828       2012  \n",
       "27           $3,300,000    $13,092,006       2013  \n",
       "28           $3,300,000    $13,092,006       2013  \n",
       "...                 ...            ...        ...  \n",
       "26098       $60,000,000    $77,906,816       2018  \n",
       "26200       $40,000,000    $54,979,992       2018  \n",
       "26317       $38,000,000    $39,177,215       2018  \n",
       "26457        $9,000,000     $1,069,318       2018  \n",
       "26546       $12,000,000   $260,000,000       2018  \n",
       "\n",
       "[2793 rows x 11 columns]"
      ]
     },
     "execution_count": 55,
     "metadata": {},
     "output_type": "execute_result"
    }
   ],
   "source": [
    "df2 = df1.dropna(axis = 0, subset = ['production_budget', 'domestic_gross'], inplace = False)\n",
    "df2"
   ]
  },
  {
   "cell_type": "code",
   "execution_count": 56,
   "metadata": {},
   "outputs": [
    {
     "name": "stderr",
     "output_type": "stream",
     "text": [
      "/Users/sandrawelbeck/opt/anaconda3/envs/learn-env/lib/python3.6/site-packages/ipykernel_launcher.py:1: SettingWithCopyWarning: \n",
      "A value is trying to be set on a copy of a slice from a DataFrame.\n",
      "Try using .loc[row_indexer,col_indexer] = value instead\n",
      "\n",
      "See the caveats in the documentation: http://pandas.pydata.org/pandas-docs/stable/user_guide/indexing.html#returning-a-view-versus-a-copy\n",
      "  \"\"\"Entry point for launching an IPython kernel.\n",
      "/Users/sandrawelbeck/opt/anaconda3/envs/learn-env/lib/python3.6/site-packages/ipykernel_launcher.py:2: SettingWithCopyWarning: \n",
      "A value is trying to be set on a copy of a slice from a DataFrame.\n",
      "Try using .loc[row_indexer,col_indexer] = value instead\n",
      "\n",
      "See the caveats in the documentation: http://pandas.pydata.org/pandas-docs/stable/user_guide/indexing.html#returning-a-view-versus-a-copy\n",
      "  \n"
     ]
    }
   ],
   "source": [
    "df2['domestic_gross'] = df2['domestic_gross'].str.replace('$', '')\n",
    "df2['domestic_gross'] = df2['domestic_gross'].str.replace(',', '')"
   ]
  },
  {
   "cell_type": "code",
   "execution_count": 57,
   "metadata": {},
   "outputs": [
    {
     "name": "stderr",
     "output_type": "stream",
     "text": [
      "/Users/sandrawelbeck/opt/anaconda3/envs/learn-env/lib/python3.6/site-packages/ipykernel_launcher.py:1: SettingWithCopyWarning: \n",
      "A value is trying to be set on a copy of a slice from a DataFrame.\n",
      "Try using .loc[row_indexer,col_indexer] = value instead\n",
      "\n",
      "See the caveats in the documentation: http://pandas.pydata.org/pandas-docs/stable/user_guide/indexing.html#returning-a-view-versus-a-copy\n",
      "  \"\"\"Entry point for launching an IPython kernel.\n",
      "/Users/sandrawelbeck/opt/anaconda3/envs/learn-env/lib/python3.6/site-packages/ipykernel_launcher.py:2: SettingWithCopyWarning: \n",
      "A value is trying to be set on a copy of a slice from a DataFrame.\n",
      "Try using .loc[row_indexer,col_indexer] = value instead\n",
      "\n",
      "See the caveats in the documentation: http://pandas.pydata.org/pandas-docs/stable/user_guide/indexing.html#returning-a-view-versus-a-copy\n",
      "  \n"
     ]
    }
   ],
   "source": [
    "df2['production_budget'] = df2['production_budget'].str.replace('$', '')\n",
    "df2['production_budget'] = df2['production_budget'].str.replace(',', '')"
   ]
  },
  {
   "cell_type": "code",
   "execution_count": 58,
   "metadata": {},
   "outputs": [
    {
     "name": "stderr",
     "output_type": "stream",
     "text": [
      "/Users/sandrawelbeck/opt/anaconda3/envs/learn-env/lib/python3.6/site-packages/ipykernel_launcher.py:1: SettingWithCopyWarning: \n",
      "A value is trying to be set on a copy of a slice from a DataFrame.\n",
      "Try using .loc[row_indexer,col_indexer] = value instead\n",
      "\n",
      "See the caveats in the documentation: http://pandas.pydata.org/pandas-docs/stable/user_guide/indexing.html#returning-a-view-versus-a-copy\n",
      "  \"\"\"Entry point for launching an IPython kernel.\n",
      "/Users/sandrawelbeck/opt/anaconda3/envs/learn-env/lib/python3.6/site-packages/ipykernel_launcher.py:2: SettingWithCopyWarning: \n",
      "A value is trying to be set on a copy of a slice from a DataFrame.\n",
      "Try using .loc[row_indexer,col_indexer] = value instead\n",
      "\n",
      "See the caveats in the documentation: http://pandas.pydata.org/pandas-docs/stable/user_guide/indexing.html#returning-a-view-versus-a-copy\n",
      "  \n"
     ]
    }
   ],
   "source": [
    "df2['domestic_gross'] = pd.to_numeric(df2['domestic_gross'],errors='coerce')\n",
    "df2['production_budget'] = pd.to_numeric(df2['production_budget'],errors='coerce')\n",
    "#df2.loc[:,'domestic_gross'] = pd.to_numeric(df2.loc['domestic_gross'],errors='coerce')"
   ]
  },
  {
   "cell_type": "code",
   "execution_count": 59,
   "metadata": {},
   "outputs": [
    {
     "name": "stderr",
     "output_type": "stream",
     "text": [
      "/Users/sandrawelbeck/opt/anaconda3/envs/learn-env/lib/python3.6/site-packages/ipykernel_launcher.py:1: SettingWithCopyWarning: \n",
      "A value is trying to be set on a copy of a slice from a DataFrame.\n",
      "Try using .loc[row_indexer,col_indexer] = value instead\n",
      "\n",
      "See the caveats in the documentation: http://pandas.pydata.org/pandas-docs/stable/user_guide/indexing.html#returning-a-view-versus-a-copy\n",
      "  \"\"\"Entry point for launching an IPython kernel.\n"
     ]
    }
   ],
   "source": [
    "df2[\"net\"] = df2['domestic_gross'] - df2['production_budget'] "
   ]
  },
  {
   "cell_type": "code",
   "execution_count": 60,
   "metadata": {},
   "outputs": [
    {
     "name": "stderr",
     "output_type": "stream",
     "text": [
      "/Users/sandrawelbeck/opt/anaconda3/envs/learn-env/lib/python3.6/site-packages/pandas/core/frame.py:4117: SettingWithCopyWarning: \n",
      "A value is trying to be set on a copy of a slice from a DataFrame\n",
      "\n",
      "See the caveats in the documentation: http://pandas.pydata.org/pandas-docs/stable/user_guide/indexing.html#returning-a-view-versus-a-copy\n",
      "  errors=errors,\n"
     ]
    }
   ],
   "source": [
    "df2.drop(df2.loc[df2['genres']=='no genre'].index, inplace=True)"
   ]
  },
  {
   "cell_type": "code",
   "execution_count": 61,
   "metadata": {},
   "outputs": [
    {
     "name": "stderr",
     "output_type": "stream",
     "text": [
      "/Users/sandrawelbeck/opt/anaconda3/envs/learn-env/lib/python3.6/site-packages/ipykernel_launcher.py:1: SettingWithCopyWarning: \n",
      "A value is trying to be set on a copy of a slice from a DataFrame.\n",
      "Try using .loc[row_indexer,col_indexer] = value instead\n",
      "\n",
      "See the caveats in the documentation: http://pandas.pydata.org/pandas-docs/stable/user_guide/indexing.html#returning-a-view-versus-a-copy\n",
      "  \"\"\"Entry point for launching an IPython kernel.\n"
     ]
    }
   ],
   "source": [
    "df2['ROI'] = (df2['net']/df2['domestic_gross'])*100"
   ]
  },
  {
   "cell_type": "code",
   "execution_count": 62,
   "metadata": {},
   "outputs": [
    {
     "data": {
      "text/plain": [
       "23         82.0\n",
       "26      -3368.0\n",
       "27         75.0\n",
       "28         75.0\n",
       "29         75.0\n",
       "          ...  \n",
       "15926    -475.0\n",
       "16018      78.0\n",
       "16202      22.0\n",
       "16260      86.0\n",
       "16261      86.0\n",
       "Name: ROI, Length: 2620, dtype: float64"
      ]
     },
     "execution_count": 62,
     "metadata": {},
     "output_type": "execute_result"
    }
   ],
   "source": [
    "df2['ROI'].apply(np.ceil)"
   ]
  },
  {
   "cell_type": "code",
   "execution_count": 63,
   "metadata": {},
   "outputs": [],
   "source": [
    "final_df = df2.drop_duplicates(subset=['title'])"
   ]
  },
  {
   "cell_type": "code",
   "execution_count": 64,
   "metadata": {},
   "outputs": [
    {
     "name": "stderr",
     "output_type": "stream",
     "text": [
      "/Users/sandrawelbeck/opt/anaconda3/envs/learn-env/lib/python3.6/site-packages/pandas/core/frame.py:4117: SettingWithCopyWarning: \n",
      "A value is trying to be set on a copy of a slice from a DataFrame\n",
      "\n",
      "See the caveats in the documentation: http://pandas.pydata.org/pandas-docs/stable/user_guide/indexing.html#returning-a-view-versus-a-copy\n",
      "  errors=errors,\n"
     ]
    }
   ],
   "source": [
    "final_df.drop(['release_date_x','movie_year'], axis=1, inplace=True)"
   ]
  },
  {
   "cell_type": "code",
   "execution_count": 65,
   "metadata": {},
   "outputs": [
    {
     "name": "stderr",
     "output_type": "stream",
     "text": [
      "/Users/sandrawelbeck/opt/anaconda3/envs/learn-env/lib/python3.6/site-packages/ipykernel_launcher.py:1: SettingWithCopyWarning: \n",
      "A value is trying to be set on a copy of a slice from a DataFrame.\n",
      "Try using .loc[row_indexer,col_indexer] = value instead\n",
      "\n",
      "See the caveats in the documentation: http://pandas.pydata.org/pandas-docs/stable/user_guide/indexing.html#returning-a-view-versus-a-copy\n",
      "  \"\"\"Entry point for launching an IPython kernel.\n"
     ]
    }
   ],
   "source": [
    "final_df['release_date'] = final_df.release_date_y.apply(lambda x: pd.to_datetime(x).strftime('%m%d%Y'))"
   ]
  },
  {
   "cell_type": "code",
   "execution_count": 66,
   "metadata": {},
   "outputs": [
    {
     "data": {
      "text/plain": [
       "genres                object\n",
       "title                 object\n",
       "region                object\n",
       "popularity           float64\n",
       "vote_average         float64\n",
       "vote_count             int64\n",
       "release_date_y        object\n",
       "production_budget      int64\n",
       "domestic_gross         int64\n",
       "net                    int64\n",
       "ROI                  float64\n",
       "release_date          object\n",
       "dtype: object"
      ]
     },
     "execution_count": 66,
     "metadata": {},
     "output_type": "execute_result"
    }
   ],
   "source": [
    "final_df.dtypes"
   ]
  },
  {
   "cell_type": "code",
   "execution_count": 67,
   "metadata": {
    "scrolled": true
   },
   "outputs": [
    {
     "name": "stderr",
     "output_type": "stream",
     "text": [
      "/Users/sandrawelbeck/opt/anaconda3/envs/learn-env/lib/python3.6/site-packages/ipykernel_launcher.py:1: SettingWithCopyWarning: \n",
      "A value is trying to be set on a copy of a slice from a DataFrame.\n",
      "Try using .loc[row_indexer,col_indexer] = value instead\n",
      "\n",
      "See the caveats in the documentation: http://pandas.pydata.org/pandas-docs/stable/user_guide/indexing.html#returning-a-view-versus-a-copy\n",
      "  \"\"\"Entry point for launching an IPython kernel.\n"
     ]
    }
   ],
   "source": [
    "final_df['release_date'] = pd.to_datetime(final_df['release_date'], format='%m%d%Y')"
   ]
  },
  {
   "cell_type": "code",
   "execution_count": 68,
   "metadata": {},
   "outputs": [
    {
     "name": "stderr",
     "output_type": "stream",
     "text": [
      "/Users/sandrawelbeck/opt/anaconda3/envs/learn-env/lib/python3.6/site-packages/ipykernel_launcher.py:1: SettingWithCopyWarning: \n",
      "A value is trying to be set on a copy of a slice from a DataFrame.\n",
      "Try using .loc[row_indexer,col_indexer] = value instead\n",
      "\n",
      "See the caveats in the documentation: http://pandas.pydata.org/pandas-docs/stable/user_guide/indexing.html#returning-a-view-versus-a-copy\n",
      "  \"\"\"Entry point for launching an IPython kernel.\n"
     ]
    },
    {
     "data": {
      "text/html": [
       "<div>\n",
       "<style scoped>\n",
       "    .dataframe tbody tr th:only-of-type {\n",
       "        vertical-align: middle;\n",
       "    }\n",
       "\n",
       "    .dataframe tbody tr th {\n",
       "        vertical-align: top;\n",
       "    }\n",
       "\n",
       "    .dataframe thead th {\n",
       "        text-align: right;\n",
       "    }\n",
       "</style>\n",
       "<table border=\"1\" class=\"dataframe\">\n",
       "  <thead>\n",
       "    <tr style=\"text-align: right;\">\n",
       "      <th></th>\n",
       "      <th>genres</th>\n",
       "      <th>title</th>\n",
       "      <th>region</th>\n",
       "      <th>popularity</th>\n",
       "      <th>vote_average</th>\n",
       "      <th>vote_count</th>\n",
       "      <th>release_date_y</th>\n",
       "      <th>production_budget</th>\n",
       "      <th>domestic_gross</th>\n",
       "      <th>net</th>\n",
       "      <th>ROI</th>\n",
       "      <th>release_date</th>\n",
       "      <th>month</th>\n",
       "    </tr>\n",
       "  </thead>\n",
       "  <tbody>\n",
       "    <tr>\n",
       "      <th>23</th>\n",
       "      <td>Comedy,Mystery</td>\n",
       "      <td>The Overnight</td>\n",
       "      <td>US</td>\n",
       "      <td>6.576</td>\n",
       "      <td>6.0</td>\n",
       "      <td>200</td>\n",
       "      <td>Jun 19, 2015</td>\n",
       "      <td>200000</td>\n",
       "      <td>1109808</td>\n",
       "      <td>909808</td>\n",
       "      <td>81.978865</td>\n",
       "      <td>2015-06-19</td>\n",
       "      <td>6</td>\n",
       "    </tr>\n",
       "    <tr>\n",
       "      <th>26</th>\n",
       "      <td>Adventure,Drama,Romance</td>\n",
       "      <td>On the Road</td>\n",
       "      <td>US</td>\n",
       "      <td>8.919</td>\n",
       "      <td>5.6</td>\n",
       "      <td>518</td>\n",
       "      <td>Mar 22, 2013</td>\n",
       "      <td>25000000</td>\n",
       "      <td>720828</td>\n",
       "      <td>-24279172</td>\n",
       "      <td>-3368.233753</td>\n",
       "      <td>2013-03-22</td>\n",
       "      <td>3</td>\n",
       "    </tr>\n",
       "  </tbody>\n",
       "</table>\n",
       "</div>"
      ],
      "text/plain": [
       "                     genres          title region  popularity  vote_average  \\\n",
       "23           Comedy,Mystery  The Overnight     US       6.576           6.0   \n",
       "26  Adventure,Drama,Romance    On the Road     US       8.919           5.6   \n",
       "\n",
       "    vote_count release_date_y  production_budget  domestic_gross       net  \\\n",
       "23         200   Jun 19, 2015             200000         1109808    909808   \n",
       "26         518   Mar 22, 2013           25000000          720828 -24279172   \n",
       "\n",
       "            ROI release_date  month  \n",
       "23    81.978865   2015-06-19      6  \n",
       "26 -3368.233753   2013-03-22      3  "
      ]
     },
     "execution_count": 68,
     "metadata": {},
     "output_type": "execute_result"
    }
   ],
   "source": [
    "final_df['month'] = pd.DatetimeIndex(final_df['release_date']).month\n",
    "final_df.head(2)"
   ]
  },
  {
   "cell_type": "code",
   "execution_count": 69,
   "metadata": {},
   "outputs": [
    {
     "name": "stderr",
     "output_type": "stream",
     "text": [
      "/Users/sandrawelbeck/opt/anaconda3/envs/learn-env/lib/python3.6/site-packages/ipykernel_launcher.py:10: SettingWithCopyWarning: \n",
      "A value is trying to be set on a copy of a slice from a DataFrame.\n",
      "Try using .loc[row_indexer,col_indexer] = value instead\n",
      "\n",
      "See the caveats in the documentation: http://pandas.pydata.org/pandas-docs/stable/user_guide/indexing.html#returning-a-view-versus-a-copy\n",
      "  # Remove the CWD from sys.path while we load stuff.\n"
     ]
    },
    {
     "data": {
      "text/html": [
       "<div>\n",
       "<style scoped>\n",
       "    .dataframe tbody tr th:only-of-type {\n",
       "        vertical-align: middle;\n",
       "    }\n",
       "\n",
       "    .dataframe tbody tr th {\n",
       "        vertical-align: top;\n",
       "    }\n",
       "\n",
       "    .dataframe thead th {\n",
       "        text-align: right;\n",
       "    }\n",
       "</style>\n",
       "<table border=\"1\" class=\"dataframe\">\n",
       "  <thead>\n",
       "    <tr style=\"text-align: right;\">\n",
       "      <th></th>\n",
       "      <th>genres</th>\n",
       "      <th>title</th>\n",
       "      <th>region</th>\n",
       "      <th>popularity</th>\n",
       "      <th>vote_average</th>\n",
       "      <th>vote_count</th>\n",
       "      <th>release_date_y</th>\n",
       "      <th>production_budget</th>\n",
       "      <th>domestic_gross</th>\n",
       "      <th>net</th>\n",
       "      <th>ROI</th>\n",
       "      <th>release_date</th>\n",
       "      <th>month</th>\n",
       "      <th>season</th>\n",
       "    </tr>\n",
       "  </thead>\n",
       "  <tbody>\n",
       "    <tr>\n",
       "      <th>15870</th>\n",
       "      <td>Action,Crime,Drama</td>\n",
       "      <td>War</td>\n",
       "      <td>US</td>\n",
       "      <td>0.600</td>\n",
       "      <td>6.0</td>\n",
       "      <td>1</td>\n",
       "      <td>Aug 24, 2007</td>\n",
       "      <td>25000000</td>\n",
       "      <td>22486409</td>\n",
       "      <td>-2513591</td>\n",
       "      <td>-11.178268</td>\n",
       "      <td>2007-08-24</td>\n",
       "      <td>8</td>\n",
       "      <td>summer</td>\n",
       "    </tr>\n",
       "    <tr>\n",
       "      <th>15923</th>\n",
       "      <td>Drama</td>\n",
       "      <td>Teeth</td>\n",
       "      <td>US</td>\n",
       "      <td>1.000</td>\n",
       "      <td>7.6</td>\n",
       "      <td>5</td>\n",
       "      <td>Jan 18, 2008</td>\n",
       "      <td>2000000</td>\n",
       "      <td>347578</td>\n",
       "      <td>-1652422</td>\n",
       "      <td>-475.410411</td>\n",
       "      <td>2008-01-18</td>\n",
       "      <td>1</td>\n",
       "      <td>winter</td>\n",
       "    </tr>\n",
       "    <tr>\n",
       "      <th>16018</th>\n",
       "      <td>Drama,Horror,Mystery</td>\n",
       "      <td>Hereditary</td>\n",
       "      <td>US</td>\n",
       "      <td>26.185</td>\n",
       "      <td>7.0</td>\n",
       "      <td>2491</td>\n",
       "      <td>Jun 8, 2018</td>\n",
       "      <td>10000000</td>\n",
       "      <td>44069456</td>\n",
       "      <td>34069456</td>\n",
       "      <td>77.308547</td>\n",
       "      <td>2018-06-08</td>\n",
       "      <td>6</td>\n",
       "      <td>summer</td>\n",
       "    </tr>\n",
       "    <tr>\n",
       "      <th>16202</th>\n",
       "      <td>Documentary</td>\n",
       "      <td>Fahrenheit 11/9</td>\n",
       "      <td>US</td>\n",
       "      <td>10.003</td>\n",
       "      <td>7.1</td>\n",
       "      <td>142</td>\n",
       "      <td>Sep 21, 2018</td>\n",
       "      <td>5000000</td>\n",
       "      <td>6352306</td>\n",
       "      <td>1352306</td>\n",
       "      <td>21.288427</td>\n",
       "      <td>2018-09-21</td>\n",
       "      <td>9</td>\n",
       "      <td>fall</td>\n",
       "    </tr>\n",
       "    <tr>\n",
       "      <th>16260</th>\n",
       "      <td>Comedy,Drama,Family</td>\n",
       "      <td>Monster</td>\n",
       "      <td>US</td>\n",
       "      <td>0.600</td>\n",
       "      <td>5.0</td>\n",
       "      <td>1</td>\n",
       "      <td>Dec 24, 2003</td>\n",
       "      <td>5000000</td>\n",
       "      <td>34469210</td>\n",
       "      <td>29469210</td>\n",
       "      <td>85.494301</td>\n",
       "      <td>2003-12-24</td>\n",
       "      <td>12</td>\n",
       "      <td>winter</td>\n",
       "    </tr>\n",
       "  </tbody>\n",
       "</table>\n",
       "</div>"
      ],
      "text/plain": [
       "                     genres            title region  popularity  vote_average  \\\n",
       "15870    Action,Crime,Drama              War     US       0.600           6.0   \n",
       "15923                 Drama            Teeth     US       1.000           7.6   \n",
       "16018  Drama,Horror,Mystery       Hereditary     US      26.185           7.0   \n",
       "16202           Documentary  Fahrenheit 11/9     US      10.003           7.1   \n",
       "16260   Comedy,Drama,Family          Monster     US       0.600           5.0   \n",
       "\n",
       "       vote_count release_date_y  production_budget  domestic_gross       net  \\\n",
       "15870           1   Aug 24, 2007           25000000        22486409  -2513591   \n",
       "15923           5   Jan 18, 2008            2000000          347578  -1652422   \n",
       "16018        2491    Jun 8, 2018           10000000        44069456  34069456   \n",
       "16202         142   Sep 21, 2018            5000000         6352306   1352306   \n",
       "16260           1   Dec 24, 2003            5000000        34469210  29469210   \n",
       "\n",
       "              ROI release_date  month  season  \n",
       "15870  -11.178268   2007-08-24      8  summer  \n",
       "15923 -475.410411   2008-01-18      1  winter  \n",
       "16018   77.308547   2018-06-08      6  summer  \n",
       "16202   21.288427   2018-09-21      9    fall  \n",
       "16260   85.494301   2003-12-24     12  winter  "
      ]
     },
     "execution_count": 69,
     "metadata": {},
     "output_type": "execute_result"
    }
   ],
   "source": [
    "conditions = [\n",
    "    (final_df['month'] == 12)| (final_df['month'] == 1)| (final_df['month'] == 2),\n",
    "    (final_df['month'] == 3) | (final_df['month'] == 4)| (final_df['month'] == 5),\n",
    "    (final_df['month'] == 6) | (final_df['month'] == 7)| (final_df['month'] == 8),\n",
    "    (final_df['month'] == 9) | (final_df['month'] == 10)| (final_df['month'] == 11)\n",
    "    ]\n",
    "# create a list of the values we want to assign for each condition\n",
    "values = ['winter', 'spring', 'summer', 'fall']\n",
    "# create a new column and use np.select to assign values to it using our lists as arguments\n",
    "final_df['season'] = np.select(conditions, values)\n",
    "# display updated DataFrame\n",
    "final_df.tail()"
   ]
  },
  {
   "cell_type": "code",
   "execution_count": 70,
   "metadata": {},
   "outputs": [
    {
     "data": {
      "text/plain": [
       "genres                       object\n",
       "title                        object\n",
       "region                       object\n",
       "popularity                  float64\n",
       "vote_average                float64\n",
       "vote_count                    int64\n",
       "release_date_y               object\n",
       "production_budget             int64\n",
       "domestic_gross                int64\n",
       "net                           int64\n",
       "ROI                         float64\n",
       "release_date         datetime64[ns]\n",
       "month                         int64\n",
       "season                       object\n",
       "dtype: object"
      ]
     },
     "execution_count": 70,
     "metadata": {},
     "output_type": "execute_result"
    }
   ],
   "source": [
    "final_df.dtypes"
   ]
  },
  {
   "cell_type": "code",
   "execution_count": 71,
   "metadata": {},
   "outputs": [],
   "source": [
    "final_df = final_df.drop(['release_date_y'], axis=1, inplace=False)"
   ]
  },
  {
   "cell_type": "markdown",
   "metadata": {},
   "source": [
    "# Visualizing our Data"
   ]
  },
  {
   "cell_type": "markdown",
   "metadata": {},
   "source": [
    "With our data clean, we can now begin to develop visuals that will help us see trends. First I want to take all the quantitative data in our dataframe and see which variables have have a relationship. For this, we created a correlation heatmap."
   ]
  },
  {
   "cell_type": "code",
   "execution_count": 72,
   "metadata": {},
   "outputs": [
    {
     "data": {
      "text/plain": [
       "Text(0.5, 1, 'Correlation Heatmap')"
      ]
     },
     "execution_count": 72,
     "metadata": {},
     "output_type": "execute_result"
    },
    {
     "data": {
      "image/png": "[encoded data removed]",
      "text/plain": [
       "<Figure size 1440x720 with 2 Axes>"
      ]
     },
     "metadata": {
      "needs_background": "light"
     },
     "output_type": "display_data"
    }
   ],
   "source": [
    "plt.figure(figsize=(20, 10))\n",
    "matrix = np.triu(final_df.corr())\n",
    "sn.heatmap(final_df.corr(), annot = True, mask=matrix, vmin=-1, vmax=1, center= 0, cmap= 'coolwarm')\n",
    "plt.title('Correlation Heatmap', fontsize=16)"
   ]
  },
  {
   "cell_type": "markdown",
   "metadata": {},
   "source": [
    "This map has our quantitative data. On the right hand side there is a meter ranging from -1(Blue) to 1(Red). The closer to 1 the numbers are, the stronger the relationship of the two variables. Additionally, the closer to the blue they are, the less likely there will be a relationship of the two variables. For instance if we look at the variables of domestic_gross and net we see a strong correlation of .77. We know that this is a positive relationship because we need the domestic_gross variable to calculate the net variable. As the domestic_gross goes up, so does the net variable. As few obvious observations that can be made here are:\n",
    "\n",
    "       - Production_budget and domestic gross have a positive strong relationship. \n",
    "       - Domestic gross and the amount of votes given in ratings have a strong correlation to one another\n",
    "\n",
    "Observations that we should investigate more are\n",
    "       \n",
    "       - Relationship between production_budget and popularity\n",
    "       - Domestic gross and popularity\n",
    "        "
   ]
  },
  {
   "cell_type": "markdown",
   "metadata": {},
   "source": [
    "Let's explore the relationship between Production Budget and Domestic Gross."
   ]
  },
  {
   "cell_type": "code",
   "execution_count": 199,
   "metadata": {
    "scrolled": true
   },
   "outputs": [
    {
     "data": {
      "image/png": "[encoded data removed]",
      "text/plain": [
       "<Figure size 864x720 with 1 Axes>"
      ]
     },
     "metadata": {},
     "output_type": "display_data"
    }
   ],
   "source": [
    "value=(final_df['production_budget']> 0) & (final_df['domestic_gross']>0)\n",
    "final_df['color'] = np.where( value==True , \"#9b59b6\", \"#3498db\")\n",
    "\n",
    "g = sn.lmplot('production_budget','domestic_gross', \n",
    "              data = final_df, \n",
    "              fit_reg= False, \n",
    "              scatter_kws={'facecolors':final_df['color']},)\n",
    "\n",
    "\n",
    "fig = plt.gcf()\n",
    "fig.set_size_inches( 12, 10)\n",
    "# g.set(xscale=\"log\")\n",
    "sn.set_style(\"whitegrid\")\n",
    "g.set_axis_labels(\"Production Budget\",\"Domestic Gross\")\n",
    "# set(xlim=(0,50), ylim=(0,100))\n",
    "plt.title(\"Relationship bt Budget & Domestic Gross\")\n",
    "plt.show(g)"
   ]
  },
  {
   "cell_type": "markdown",
   "metadata": {},
   "source": [
    "Explanation of above graph"
   ]
  },
  {
   "cell_type": "code",
   "execution_count": 189,
   "metadata": {},
   "outputs": [
    {
     "data": {
      "text/plain": [
       "['summer', 'spring', 'fall', 'winter']"
      ]
     },
     "execution_count": 189,
     "metadata": {},
     "output_type": "execute_result"
    }
   ],
   "source": [
    "seasons = list(final_df.season.unique())\n",
    "seasons"
   ]
  },
  {
   "cell_type": "code",
   "execution_count": 188,
   "metadata": {},
   "outputs": [
    {
     "data": {
      "text/plain": [
       "season\n",
       "fall      413\n",
       "spring    359\n",
       "summer    376\n",
       "winter    333\n",
       "Name: title, dtype: int64"
      ]
     },
     "execution_count": 188,
     "metadata": {},
     "output_type": "execute_result"
    }
   ],
   "source": [
    "num_per_season = final_df.groupby('season')['title'].count()\n",
    "num_per_season"
   ]
  },
  {
   "cell_type": "code",
   "execution_count": 200,
   "metadata": {},
   "outputs": [
    {
     "data": {
      "image/png": "[encoded data removed]",
      "text/plain": [
       "<Figure size 432x288 with 1 Axes>"
      ]
     },
     "metadata": {},
     "output_type": "display_data"
    }
   ],
   "source": [
    "height = (num_per_season)\n",
    "bars = (['fall', 'spring', 'summer', 'winter'])\n",
    "y_pos = np.arange(len(bars))\n",
    " \n",
    "# Create horizontal bars\n",
    "plt.barh(y_pos, height,color=['red', 'purple', 'orange', 'blue'])\n",
    "fig.set_size_inches(10, 10) \n",
    "\n",
    "# Create names on the y-axis\n",
    "plt.yticks(y_pos, bars)\n",
    "plt.xlabel(\"Number of Releases\")\n",
    "plt.ylabel(\"Season\")\n",
    "plt.title(\"Releases per Season\")\n",
    "\n",
    "# Show graphic\n",
    "plt.show()\n"
   ]
  },
  {
   "cell_type": "code",
   "execution_count": 75,
   "metadata": {},
   "outputs": [
    {
     "data": {
      "text/html": [
       "<div>\n",
       "<style scoped>\n",
       "    .dataframe tbody tr th:only-of-type {\n",
       "        vertical-align: middle;\n",
       "    }\n",
       "\n",
       "    .dataframe tbody tr th {\n",
       "        vertical-align: top;\n",
       "    }\n",
       "\n",
       "    .dataframe thead th {\n",
       "        text-align: right;\n",
       "    }\n",
       "</style>\n",
       "<table border=\"1\" class=\"dataframe\">\n",
       "  <thead>\n",
       "    <tr style=\"text-align: right;\">\n",
       "      <th></th>\n",
       "      <th>popularity</th>\n",
       "      <th>vote_average</th>\n",
       "      <th>vote_count</th>\n",
       "      <th>production_budget</th>\n",
       "      <th>domestic_gross</th>\n",
       "      <th>net</th>\n",
       "      <th>ROI</th>\n",
       "      <th>month</th>\n",
       "    </tr>\n",
       "  </thead>\n",
       "  <tbody>\n",
       "    <tr>\n",
       "      <th>count</th>\n",
       "      <td>1481.000000</td>\n",
       "      <td>1481.000000</td>\n",
       "      <td>1481.000000</td>\n",
       "      <td>1.481000e+03</td>\n",
       "      <td>1.481000e+03</td>\n",
       "      <td>1.481000e+03</td>\n",
       "      <td>1.481000e+03</td>\n",
       "      <td>1481.000000</td>\n",
       "    </tr>\n",
       "    <tr>\n",
       "      <th>mean</th>\n",
       "      <td>12.042804</td>\n",
       "      <td>6.278123</td>\n",
       "      <td>1973.209993</td>\n",
       "      <td>4.449536e+07</td>\n",
       "      <td>5.715617e+07</td>\n",
       "      <td>1.266081e+07</td>\n",
       "      <td>-6.907214e+03</td>\n",
       "      <td>6.773801</td>\n",
       "    </tr>\n",
       "    <tr>\n",
       "      <th>std</th>\n",
       "      <td>8.123598</td>\n",
       "      <td>0.992251</td>\n",
       "      <td>2797.992535</td>\n",
       "      <td>5.436434e+07</td>\n",
       "      <td>8.434149e+07</td>\n",
       "      <td>5.913659e+07</td>\n",
       "      <td>9.984564e+04</td>\n",
       "      <td>3.404411</td>\n",
       "    </tr>\n",
       "    <tr>\n",
       "      <th>min</th>\n",
       "      <td>0.600000</td>\n",
       "      <td>0.000000</td>\n",
       "      <td>1.000000</td>\n",
       "      <td>9.000000e+03</td>\n",
       "      <td>5.280000e+02</td>\n",
       "      <td>-2.019413e+08</td>\n",
       "      <td>-3.267874e+06</td>\n",
       "      <td>1.000000</td>\n",
       "    </tr>\n",
       "    <tr>\n",
       "      <th>25%</th>\n",
       "      <td>7.510000</td>\n",
       "      <td>5.800000</td>\n",
       "      <td>245.000000</td>\n",
       "      <td>9.000000e+06</td>\n",
       "      <td>5.790894e+06</td>\n",
       "      <td>-1.081181e+07</td>\n",
       "      <td>-1.487813e+02</td>\n",
       "      <td>4.000000</td>\n",
       "    </tr>\n",
       "    <tr>\n",
       "      <th>50%</th>\n",
       "      <td>10.613000</td>\n",
       "      <td>6.300000</td>\n",
       "      <td>918.000000</td>\n",
       "      <td>2.500000e+07</td>\n",
       "      <td>2.884869e+07</td>\n",
       "      <td>-3.636800e+04</td>\n",
       "      <td>-1.213987e+00</td>\n",
       "      <td>7.000000</td>\n",
       "    </tr>\n",
       "    <tr>\n",
       "      <th>75%</th>\n",
       "      <td>15.351000</td>\n",
       "      <td>6.900000</td>\n",
       "      <td>2494.000000</td>\n",
       "      <td>5.500000e+07</td>\n",
       "      <td>6.774533e+07</td>\n",
       "      <td>2.305991e+07</td>\n",
       "      <td>5.192323e+01</td>\n",
       "      <td>10.000000</td>\n",
       "    </tr>\n",
       "    <tr>\n",
       "      <th>max</th>\n",
       "      <td>80.773000</td>\n",
       "      <td>10.000000</td>\n",
       "      <td>22186.000000</td>\n",
       "      <td>4.106000e+08</td>\n",
       "      <td>7.000596e+08</td>\n",
       "      <td>5.000596e+08</td>\n",
       "      <td>9.956072e+01</td>\n",
       "      <td>12.000000</td>\n",
       "    </tr>\n",
       "  </tbody>\n",
       "</table>\n",
       "</div>"
      ],
      "text/plain": [
       "        popularity  vote_average    vote_count  production_budget  \\\n",
       "count  1481.000000   1481.000000   1481.000000       1.481000e+03   \n",
       "mean     12.042804      6.278123   1973.209993       4.449536e+07   \n",
       "std       8.123598      0.992251   2797.992535       5.436434e+07   \n",
       "min       0.600000      0.000000      1.000000       9.000000e+03   \n",
       "25%       7.510000      5.800000    245.000000       9.000000e+06   \n",
       "50%      10.613000      6.300000    918.000000       2.500000e+07   \n",
       "75%      15.351000      6.900000   2494.000000       5.500000e+07   \n",
       "max      80.773000     10.000000  22186.000000       4.106000e+08   \n",
       "\n",
       "       domestic_gross           net           ROI        month  \n",
       "count    1.481000e+03  1.481000e+03  1.481000e+03  1481.000000  \n",
       "mean     5.715617e+07  1.266081e+07 -6.907214e+03     6.773801  \n",
       "std      8.434149e+07  5.913659e+07  9.984564e+04     3.404411  \n",
       "min      5.280000e+02 -2.019413e+08 -3.267874e+06     1.000000  \n",
       "25%      5.790894e+06 -1.081181e+07 -1.487813e+02     4.000000  \n",
       "50%      2.884869e+07 -3.636800e+04 -1.213987e+00     7.000000  \n",
       "75%      6.774533e+07  2.305991e+07  5.192323e+01    10.000000  \n",
       "max      7.000596e+08  5.000596e+08  9.956072e+01    12.000000  "
      ]
     },
     "execution_count": 75,
     "metadata": {},
     "output_type": "execute_result"
    }
   ],
   "source": [
    "final_df.describe()"
   ]
  },
  {
   "cell_type": "code",
   "execution_count": 76,
   "metadata": {},
   "outputs": [
    {
     "data": {
      "text/plain": [
       "25000000.0"
      ]
     },
     "execution_count": 76,
     "metadata": {},
     "output_type": "execute_result"
    }
   ],
   "source": [
    "final_df['production_budget'].median()"
   ]
  },
  {
   "cell_type": "code",
   "execution_count": 77,
   "metadata": {},
   "outputs": [
    {
     "data": {
      "text/plain": [
       "12.042804186360566"
      ]
     },
     "execution_count": 77,
     "metadata": {},
     "output_type": "execute_result"
    }
   ],
   "source": [
    "final_df['popularity'].mean()"
   ]
  },
  {
   "cell_type": "code",
   "execution_count": 81,
   "metadata": {},
   "outputs": [],
   "source": [
    "#Time of Year and Net"
   ]
  },
  {
   "cell_type": "code",
   "execution_count": 82,
   "metadata": {},
   "outputs": [
    {
     "data": {
      "text/plain": [
       "-36368.0"
      ]
     },
     "execution_count": 82,
     "metadata": {},
     "output_type": "execute_result"
    }
   ],
   "source": [
    "final_df['net'].median()"
   ]
  },
  {
   "cell_type": "code",
   "execution_count": 83,
   "metadata": {},
   "outputs": [],
   "source": [
    "#Genre and ROI"
   ]
  },
  {
   "cell_type": "code",
   "execution_count": 84,
   "metadata": {},
   "outputs": [
    {
     "data": {
      "text/plain": [
       "-1.2139865815123516"
      ]
     },
     "execution_count": 84,
     "metadata": {},
     "output_type": "execute_result"
    }
   ],
   "source": [
    "final_df['ROI'].median()"
   ]
  },
  {
   "cell_type": "code",
   "execution_count": 85,
   "metadata": {},
   "outputs": [
    {
     "data": {
      "text/plain": [
       "season\n",
       "fall      4.451377e+07\n",
       "spring    6.054603e+07\n",
       "summer    6.901661e+07\n",
       "winter    5.578928e+07\n",
       "Name: domestic_gross, dtype: float64"
      ]
     },
     "execution_count": 85,
     "metadata": {},
     "output_type": "execute_result"
    }
   ],
   "source": [
    "time_of_year = final_df.groupby('season')['domestic_gross'].mean()\n",
    "time_of_year.head()"
   ]
  },
  {
   "cell_type": "code",
   "execution_count": 109,
   "metadata": {},
   "outputs": [
    {
     "data": {
      "image/png": "[encoded data removed]",
      "text/plain": [
       "<Figure size 720x720 with 1 Axes>"
      ]
     },
     "metadata": {},
     "output_type": "display_data"
    }
   ],
   "source": [
    "sn.barplot(x = 'season',\n",
    "            y = 'domestic_gross',\n",
    "            data = final_df,\n",
    "            \n",
    "            )\n",
    "# Show the plot\n",
    "sn.set(rc={'figure.figsize':(12,12)})\n",
    "plt.xlabel(\"Season\")\n",
    "plt.ylabel(\"Domestic Gross\")\n",
    "plt.title(\"Domestic Gross by Season\")\n",
    "plt.show()"
   ]
  },
  {
   "cell_type": "code",
   "execution_count": null,
   "metadata": {},
   "outputs": [],
   "source": []
  }
 ],
 "metadata": {
  "kernelspec": {
   "display_name": "learn-env",
   "language": "python",
   "name": "learn-env"
  },
  "language_info": {
   "codemirror_mode": {
    "name": "ipython",
    "version": 3
   },
   "file_extension": ".py",
   "mimetype": "text/x-python",
   "name": "python",
   "nbconvert_exporter": "python",
   "pygments_lexer": "ipython3",
   "version": "3.6.9"
  },
  "toc": {
   "base_numbering": 1,
   "nav_menu": {},
   "number_sections": true,
   "sideBar": true,
   "skip_h1_title": false,
   "title_cell": "Table of Contents",
   "title_sidebar": "Contents",
   "toc_cell": false,
   "toc_position": {},
   "toc_section_display": true,
   "toc_window_display": false
  }
 },
 "nbformat": 4,
 "nbformat_minor": 4
}
